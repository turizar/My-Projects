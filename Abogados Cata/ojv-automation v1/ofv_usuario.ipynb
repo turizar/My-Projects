{
 "cells": [
  {
   "cell_type": "code",
   "execution_count": null,
   "metadata": {},
   "outputs": [],
   "source": [
    "from selenium import webdriver\n",
    "from selenium.webdriver.common.by import By\n",
    "import pandas as pd\n",
    "from io import StringIO\n",
    "import time\n",
    "from datetime import datetime, timedelta\n",
    "from selenium.webdriver.support.ui import WebDriverWait\n",
    "from selenium.webdriver.support import expected_conditions as EC\n",
    "from selenium.webdriver.firefox.options import Options\n",
    "import re\n",
    "\n",
    "import warnings\n",
    "# Suppress FutureWarning\n",
    "warnings.simplefilter(action='ignore', category=FutureWarning)"
   ]
  },
  {
   "cell_type": "markdown",
   "metadata": {},
   "source": [
    "# Setup"
   ]
  },
  {
   "cell_type": "markdown",
   "metadata": {},
   "source": [
    "### Variables modificables"
   ]
  },
  {
   "cell_type": "code",
   "execution_count": null,
   "metadata": {},
   "outputs": [],
   "source": [
    "path_archivo_excel = \"output.xlsx\" # especificar el nombre del archivo de excel que se va a crear con la información\n",
    "meses_filtro = 12 # especificar el número de meses máximos "
   ]
  },
  {
   "cell_type": "markdown",
   "metadata": {},
   "source": [
    "### Crear output.xlsx si no existe"
   ]
  },
  {
   "cell_type": "code",
   "execution_count": null,
   "metadata": {},
   "outputs": [],
   "source": [
    "import os\n",
    "from openpyxl import Workbook\n",
    "\n",
    "# Verifica si el archivo ya existe\n",
    "if not os.path.isfile(path_archivo_excel):\n",
    "    # Crea un nuevo libro de trabajo (Workbook)\n",
    "    workbook = Workbook()\n",
    "\n",
    "    # Guarda el libro de trabajo en el archivo especificado\n",
    "    workbook.save(path_archivo_excel)\n",
    "\n",
    "    print(f'Se ha creado el archivo Excel: {path_archivo_excel}')\n",
    "else:\n",
    "    print(f'El archivo Excel ya existe: {path_archivo_excel}')"
   ]
  },
  {
   "cell_type": "markdown",
   "metadata": {},
   "source": [
    "# Navegar por la página"
   ]
  },
  {
   "cell_type": "markdown",
   "metadata": {},
   "source": [
    "Abrir página y mostrar el proceso en Firefox. Se recomienda usar este para poder asegurarse de estar en la página correcta. Esta sí Andi"
   ]
  },
  {
   "cell_type": "code",
   "execution_count": null,
   "metadata": {},
   "outputs": [],
   "source": [
    "browser = webdriver.Firefox()\n",
    "# browser = webdriver.Chrome()\n",
    "browser.get(\"https://oficinajudicialvirtual.pjud.cl/home/index.php\")"
   ]
  },
  {
   "cell_type": "markdown",
   "metadata": {},
   "source": [
    "Ir a Inicio de Sesión"
   ]
  },
  {
   "cell_type": "code",
   "execution_count": null,
   "metadata": {},
   "outputs": [],
   "source": [
    "boton_todos_los_servicios = browser.find_element(by='xpath', value=\"//button[text()='Todos los servicios']\")\n",
    "boton_todos_los_servicios.click()\n",
    "\n",
    "boton_clave_unica = browser.find_element(by='xpath', value=\"//a[text()='Clave Única']\")\n",
    "boton_clave_unica.click()"
   ]
  },
  {
   "cell_type": "markdown",
   "metadata": {},
   "source": [
    "Ingresar"
   ]
  },
  {
   "cell_type": "code",
   "execution_count": null,
   "metadata": {},
   "outputs": [],
   "source": [
    "rut_usuario = '19.687.891-2'\n",
    "clave_unica = 'Sofi2101!'\n",
    "\n",
    "input_run = WebDriverWait(browser, 10).until(EC.presence_of_element_located((By.XPATH, '//*[@id=\"uname\"]')))\n",
    "input_run.send_keys(rut_usuario)  \n",
    "\n",
    "input_clave_unica = WebDriverWait(browser, 10).until(EC.presence_of_element_located((By.XPATH, '//*[@id=\"pword\"]')))\n",
    "input_clave_unica.send_keys(clave_unica)  \n",
    "\n",
    "boton_ingresar =  WebDriverWait(browser, 10).until(EC.presence_of_element_located((By.XPATH, '//*[@id=\"login-submit\"]')))\n",
    "boton_ingresar.click()"
   ]
  },
  {
   "cell_type": "markdown",
   "metadata": {},
   "source": [
    "Ir a Consulta Unificada"
   ]
  },
  {
   "cell_type": "code",
   "execution_count": null,
   "metadata": {},
   "outputs": [],
   "source": [
    "sidebar = WebDriverWait(browser, 10).until(EC.presence_of_element_located((By.XPATH, '//*[@id=\"sidebar\"]')))\n",
    "consulta_unificada = WebDriverWait(sidebar, 10).until(EC.presence_of_element_located((By.XPATH, \".//a[contains(@onclick, 'consultaUnificada')]\")))\n",
    "consulta_unificada.click()"
   ]
  },
  {
   "cell_type": "markdown",
   "metadata": {},
   "source": [
    "Leer archivo RUT´s bajadas.xlsx y mostrar los Ruts que serán buscados"
   ]
  },
  {
   "cell_type": "code",
   "execution_count": null,
   "metadata": {},
   "outputs": [],
   "source": [
    "file_path = r'RUT´s bajadas 2.xlsx'\n",
    "\n",
    "df = pd.read_excel(file_path)\n",
    "\n",
    "ruts = df['RUT'].dropna().to_list() # [0:2]\n",
    "print(ruts)\n",
    "personas_juridicas = df['Buscar por nombre/persona jurídica'].dropna().to_list()\n",
    "personas_naturales = df['Buscar por nombre/persona natural'].dropna().to_list()"
   ]
  },
  {
   "cell_type": "markdown",
   "metadata": {},
   "source": [
    "### Búsqueda por Rut Persona Jurídica"
   ]
  },
  {
   "cell_type": "markdown",
   "metadata": {},
   "source": [
    "Ir a Tab Búsqueda por Rut Persona Jurídica"
   ]
  },
  {
   "cell_type": "code",
   "execution_count": null,
   "metadata": {},
   "outputs": [],
   "source": [
    "boton_busqueda_por_rut_persona_juridica = browser.find_element(by='xpath', value=\"//a[text()='Búsqueda por Rut Persona Jurídica']\")\n",
    "boton_busqueda_por_rut_persona_juridica.click()"
   ]
  },
  {
   "cell_type": "markdown",
   "metadata": {},
   "source": [
    "Iterar por los ruts. En cada iteración se crea un df nuevo que contendrá toda la información de las tablas de todas las páginas que correspondan al rut, se lee el output.xlsx, se concatena la información, es decir a la información que ya se encuentra en el output.xlsx se le agrega la nueva información, luego se guarda la información en output.xlsx y finalmente se limpia la búsqueda en la página."
   ]
  },
  {
   "cell_type": "code",
   "execution_count": null,
   "metadata": {},
   "outputs": [],
   "source": [
    "for rut in ruts:\n",
    "    success = False\n",
    "    while not success:\n",
    "        try:\n",
    "            df = pd.DataFrame()\n",
    "            no_registros = False\n",
    "            print(f\"rut: {rut}\")\n",
    "            rut1, rut2 = rut.split(\"-\")  # separar rut en antes y después del \"-\", ya que hay inputs diferentes para cada uno. Por ejemplo 62920000-2: rut1=62920000, rut2=2\n",
    "            \n",
    "            input_rut = WebDriverWait(browser, 4).until(EC.presence_of_element_located((By.XPATH, '//*[@id=\"rutJur\"]')))\n",
    "            input_rut.clear()  # Clear the input field\n",
    "            input_rut.send_keys(rut1)\n",
    "            \n",
    "            input_rut2 = WebDriverWait(browser, 4).until(EC.presence_of_element_located((By.XPATH, '//*[@id=\"dvJur\"]')))\n",
    "            input_rut2.clear()  # Clear the input field\n",
    "            input_rut2.send_keys(rut2)\n",
    "            \n",
    "            boton_buscar = WebDriverWait(browser, 4).until(EC.presence_of_element_located((By.XPATH, '//*[@id=\"btnConConsultaJur\"]')))\n",
    "            boton_buscar.click()\n",
    "            time.sleep(5)\n",
    "            \n",
    "            while True:\n",
    "                print(f\"cantidad de filas recuperadas: {df.shape[0]}\")\n",
    "                try:\n",
    "                    table_element = WebDriverWait(browser, 10).until(EC.presence_of_element_located((By.XPATH, '//*[@id=\"dtaTableDetalleJuridica\"]')))\n",
    "                    html = browser.page_source\n",
    "\n",
    "                    # Use pandas to read the HTML content\n",
    "                    df_list = pd.read_html(html)\n",
    "                    df2 = pd.concat(df_list, ignore_index=True)\n",
    "                    df2 = df2.iloc[4:-1, 4:]\n",
    "                    df = pd.concat([df, df2])\n",
    "                    time.sleep(5)\n",
    "\n",
    "                except Exception as e:\n",
    "                    print(\"No hay registros\")\n",
    "                    no_registros = True\n",
    "                    boton_limpiar = WebDriverWait(browser, 4).until(EC.presence_of_element_located((By.XPATH, '//*[@id=\"btnConLimpiarJur\"]')))\n",
    "                    boton_limpiar.click()\n",
    "                    print(e)\n",
    "                    break\n",
    "                \n",
    "                try:\n",
    "                    boton_siguiente = WebDriverWait(browser, 10).until(EC.presence_of_element_located((By.XPATH, '//*[@id=\"sigId\"]')))\n",
    "                    boton_siguiente.click()\n",
    "                    time.sleep(5)\n",
    "                except Exception:\n",
    "                    print(\"última página\")\n",
    "                    total_de_registros = WebDriverWait(browser, 10).until(EC.presence_of_element_located((By.CSS_SELECTOR, '.loadTotalJur > b:nth-child(1)')))\n",
    "                    total_de_registros = total_de_registros.get_attribute('outerHTML')\n",
    "                    total_de_registros = re.sub(r'<.*?>', '', total_de_registros)\n",
    "                    print(f\"total de registros: {total_de_registros}\")\n",
    "                    break\n",
    "\n",
    "            print(f\"cantidad final de filas recuperadas: {df.shape[0]}\")\n",
    "\n",
    "            # Check if the total number of records matches the rows retrieved\n",
    "            if not no_registros and int(total_de_registros) != df.shape[0]:\n",
    "                print(\"Mismatch in total de registros and cantidad de filas recuperadas, retrying...\")\n",
    "                boton_limpiar = WebDriverWait(browser, 4).until(EC.presence_of_element_located((By.XPATH, '//*[@id=\"btnConLimpiarJur\"]')))\n",
    "                boton_limpiar.click()\n",
    "                time.sleep(5)\n",
    "                continue  # Retry the same rut\n",
    "\n",
    "            # Filter by date if records are found\n",
    "            if not no_registros:\n",
    "                df['Parsed Fecha Ingreso'] = pd.to_datetime(df['Fecha Ingreso'], format='%d/%m/%Y')\n",
    "                n_months_ago = datetime.now() - timedelta(days=meses_filtro * 30)\n",
    "                date_condition = (df['Parsed Fecha Ingreso'] >= n_months_ago)\n",
    "                df = df[date_condition]\n",
    "                df = df.drop(columns=['Parsed Fecha Ingreso'])\n",
    "                print(f\"cantidad de filas después del filtro (12 meses): {df.shape[0]}\")\n",
    "\n",
    "                # Combine with existing data and save\n",
    "                df_existing = pd.read_excel(f\"{path_archivo_excel}\")\n",
    "                df_combined = pd.concat([df_existing, df], ignore_index=True)\n",
    "                df_combined.to_excel(f\"{path_archivo_excel}\", index=False)\n",
    "\n",
    "            # Clean up for the next iteration\n",
    "            boton_limpiar = WebDriverWait(browser, 4).until(EC.presence_of_element_located((By.XPATH, '//*[@id=\"btnConLimpiarJur\"]')))\n",
    "            boton_limpiar.click()\n",
    "            time.sleep(5)\n",
    "            success = True  # Exit the retry loop\n",
    "\n",
    "        except Exception as e:\n",
    "            print(f\"Exception occurred for rut {rut}: {e}\")\n",
    "            # Optionally, add some handling logic or continue to the next rut\n",
    "            break\n"
   ]
  },
  {
   "cell_type": "markdown",
   "metadata": {},
   "source": [
    "### Búsqueda por Nombre"
   ]
  },
  {
   "cell_type": "code",
   "execution_count": null,
   "metadata": {},
   "outputs": [],
   "source": [
    "# boton_busqueda_por_nombre = WebDriverWait(browser, 10).until(EC.presence_of_element_located((By.XPATH, \"/html/body/div[1]/div/div[2]/div[2]/div[1]/div/section/div[1]/div/ul/li[2]/a\")))\n",
    "boton_busqueda_por_nombre = browser.find_element(by='xpath', value=\"//a[text()='Búsqueda por Nombre']\")\n",
    "boton_busqueda_por_nombre.click()"
   ]
  },
  {
   "cell_type": "markdown",
   "metadata": {},
   "source": [
    "#### Persona Natural"
   ]
  },
  {
   "cell_type": "code",
   "execution_count": null,
   "metadata": {},
   "outputs": [],
   "source": [
    "boton_persona_natural = WebDriverWait(browser, 10).until(EC.presence_of_element_located((By.XPATH, '//*[@id=\"radioPerNatural\"]')))\n",
    "boton_persona_natural.click()"
   ]
  },
  {
   "cell_type": "code",
   "execution_count": null,
   "metadata": {},
   "outputs": [],
   "source": [
    "for persona_natural in personas_naturales:\n",
    "    df = pd.DataFrame()\n",
    "    no_registros = False\n",
    "    nombre, apellido_paterno, apellido_materno = persona_natural.split()\n",
    "    print(f\"nombre: {nombre} {apellido_paterno} {apellido_materno}\")\n",
    "\n",
    "    input_nombre = WebDriverWait(browser, 10).until(EC.presence_of_element_located((By.XPATH, '//*[@id=\"nomNombre\"]')))\n",
    "    input_nombre.send_keys(nombre)\n",
    "    input_apellido_paterno = WebDriverWait(browser, 10).until(EC.presence_of_element_located((By.XPATH, '//*[@id=\"nomApePaterno\"]')))\n",
    "    input_apellido_paterno.send_keys(apellido_paterno)\n",
    "    input_apellido_materno = WebDriverWait(browser, 10).until(EC.presence_of_element_located((By.XPATH, '//*[@id=\"nomApeMaterno\"]')))\n",
    "    input_apellido_materno.send_keys(apellido_materno)\n",
    "\n",
    "    boton_buscar = WebDriverWait(browser, 10).until(EC.presence_of_element_located((By.XPATH, '//*[@id=\"btnConConsultaNom\"]')))\n",
    "    boton_buscar.click()\n",
    "    time.sleep(5)\n",
    "\n",
    "\n",
    "    while True:\n",
    "        print(f\"cantidad de filas recuperadas: {df.shape[0]}\")\n",
    "        try:\n",
    "            table_element = WebDriverWait(browser, 10).until(EC.presence_of_element_located((By.XPATH, '//*[@id=\"dtaTableDetalleNombre\"]')))\n",
    "            html = browser.page_source\n",
    "            # Use pandas to read the HTML content\n",
    "            df_list = pd.read_html(html)\n",
    "            df2 = pd.concat(df_list, ignore_index=True)\n",
    "            df2 = df2.iloc[2:-3, 4:]\n",
    "            df = pd.concat([df,df2])\n",
    "            time.sleep(5)\n",
    "            display(df)\n",
    "\n",
    "        except Exception as e:\n",
    "            print(\"No hay registros\")\n",
    "            no_registros = True\n",
    "            boton_limpiar = WebDriverWait(browser, 4).until(EC.presence_of_element_located((By.XPATH, '//*[@id=\"btnConLimpiarNom\"]')))\n",
    "            boton_limpiar.click()\n",
    "            print(e)\n",
    "            break\n",
    "        \n",
    "        try:\n",
    "            boton_siguiente = WebDriverWait(browser, 10).until(EC.element_to_be_clickable((By.XPATH, '//*[@id=\"sigId\"]')))\n",
    "            boton_siguiente.click()\n",
    "            time.sleep(5)\n",
    "            \n",
    "        except Exception as e:\n",
    "            print(\"última página\")\n",
    "            if df.shape[0] == 0:\n",
    "                print('No hay registros')\n",
    "                no_registros = True\n",
    "                break\n",
    "\n",
    "            total_de_registros = WebDriverWait(browser, 10).until(EC.presence_of_element_located((By.CSS_SELECTOR, '.loadTotalNom > b:nth-child(1)')))\n",
    "            total_de_registros = total_de_registros.get_attribute('outerHTML')\n",
    "            total_de_registros = re.sub(r'<.*?>', '', total_de_registros)\n",
    "            print(f\"total de registros: {total_de_registros}\")\n",
    "            break\n",
    "\n",
    "    print(f\"cantidad final de filas recuperadas: {df.shape[0]}\")\n",
    "\n",
    "    if no_registros:\n",
    "        no_registros = False\n",
    "    else:    \n",
    "        # filtrar por fecha\n",
    "        df['Parsed Fecha Ingreso'] = pd.to_datetime(df['Fecha Ingreso'], format='%d/%m/%Y')\n",
    "        n_months_ago = datetime.now() - timedelta(days=meses_filtro*30)\n",
    "        date_condition = (df['Parsed Fecha Ingreso'] >= n_months_ago)\n",
    "        df = df[date_condition]\n",
    "        df = df.drop(columns=['Parsed Fecha Ingreso'])\n",
    "        print(f\"cantidad de filas después del filtro (12 meses): {df.shape[0]}\")\n",
    "        \n",
    "        df_existing = pd.read_excel(f\"{path_archivo_excel}\")\n",
    "\n",
    "        df_combined = pd.concat([df_existing, df], ignore_index=True)\n",
    "        df_combined.to_excel(f\"{path_archivo_excel}\", index=False)    \n",
    "\n",
    "    boton_limpiar = WebDriverWait(browser, 4).until(EC.presence_of_element_located((By.XPATH, '//*[@id=\"btnConLimpiarNom\"]')))\n",
    "    boton_limpiar.click()\n",
    "    time.sleep(5)    "
   ]
  },
  {
   "cell_type": "markdown",
   "metadata": {},
   "source": [
    "# Lo que sigue todavía no ha sido arreglado ni testeado"
   ]
  },
  {
   "cell_type": "markdown",
   "metadata": {},
   "source": [
    "#### Persona Jurídica"
   ]
  },
  {
   "cell_type": "code",
   "execution_count": null,
   "metadata": {},
   "outputs": [],
   "source": [
    "boton_persona_juridica = WebDriverWait(browser, 10).until(EC.presence_of_element_located((By.XPATH, '//*[@id=\"radioPerJuridica\"]')))\n",
    "boton_persona_juridica.click()"
   ]
  },
  {
   "cell_type": "code",
   "execution_count": null,
   "metadata": {},
   "outputs": [],
   "source": [
    "for persona_juridica in personas_juridicas:\n",
    "    df = pd.DataFrame()\n",
    "    no_registros = False\n",
    "    print(persona_juridica)\n",
    "    input_nombre = WebDriverWait(browser, 10).until(EC.presence_of_element_located((By.XPATH, '//*[@id=\"nomNombreJur\"]')))\n",
    "    input_nombre.send_keys(persona_juridica)\n",
    "    boton_buscar = WebDriverWait(browser, 10).until(EC.presence_of_element_located((By.XPATH, '//*[@id=\"btnConConsultaNom\"]')))\n",
    "    boton_buscar.click()\n",
    "    time.sleep(0.5)\n",
    "\n",
    "    while True:\n",
    "        print(f\"cantidad de filas recuperadas: {df.shape[0]}\")\n",
    "        try:\n",
    "            table_element = WebDriverWait(browser, 4).until(EC.presence_of_element_located((By.XPATH, '//*[@id=\"dtaTableDetalleNombre\"]')))\n",
    "            html_content = table_element.get_attribute('outerHTML')\n",
    "            df2 = pd.read_html(StringIO(html_content), displayed_only=False)[0].iloc[:-1]\n",
    "            df = pd.concat([df,df2])\n",
    "            time.sleep(1)\n",
    "\n",
    "        except Exception as e:\n",
    "            print(\"No hay registros\")\n",
    "            no_registros = True\n",
    "            boton_limpiar = WebDriverWait(browser, 4).until(EC.presence_of_element_located((By.XPATH, '//*[@id=\"btnConLimpiarNom\"]')))\n",
    "            boton_limpiar.click()\n",
    "            # print(e)\n",
    "            break\n",
    "        \n",
    "        time.sleep(1)\n",
    "        try:\n",
    "            boton_siguiente = WebDriverWait(browser, 4).until(EC.element_to_be_clickable((By.XPATH, '//*[@id=\"sigId\"]')))\n",
    "            boton_siguiente.click()\n",
    "            time.sleep(1)\n",
    "        except Exception as e:\n",
    "            print(\"última página\")\n",
    "            # print(e)\n",
    "            break\n",
    "    print(f\"cantidad final de filas recuperadas: {df.shape[0]}\")\n",
    "\n",
    "    if no_registros:\n",
    "        continue\n",
    "    \n",
    "    # filtrar por fecha\n",
    "    df['Parsed Fecha Ingreso'] = pd.to_datetime(df['Fecha Ingreso'], format='%d/%m/%Y')\n",
    "    n_months_ago = datetime.now() - timedelta(days=meses_filtro*30)\n",
    "    date_condition = (df['Parsed Fecha Ingreso'] >= n_months_ago)\n",
    "    df = df[date_condition]\n",
    "    df = df.drop(columns=['Parsed Fecha Ingreso'])\n",
    "    #\n",
    "    \n",
    "    df_existing = pd.read_excel(f\"{path_archivo_excel}\")\n",
    "    df_combined = pd.concat([df_existing, df], ignore_index=True)\n",
    "    df_combined.to_excel(f\"{path_archivo_excel}\", index=False)    \n",
    "    boton_limpiar = WebDriverWait(browser, 4).until(EC.presence_of_element_located((By.XPATH, '//*[@id=\"btnConLimpiarNom\"]')))\n",
    "    boton_limpiar.click()\n",
    "    time.sleep(1)    "
   ]
  },
  {
   "cell_type": "code",
   "execution_count": null,
   "metadata": {},
   "outputs": [],
   "source": [
    "import pandas as pd\n",
    "\n",
    "url = \"https://oficinajudicialvirtual.pjud.cl/indexN.php\"\n",
    "dfs = pd.read_html(url)\n",
    "\n",
    "print(len(dfs))"
   ]
  },
  {
   "cell_type": "code",
   "execution_count": null,
   "metadata": {},
   "outputs": [],
   "source": []
  }
 ],
 "metadata": {
  "kernelspec": {
   "display_name": "ojv",
   "language": "python",
   "name": "python3"
  },
  "language_info": {
   "codemirror_mode": {
    "name": "ipython",
    "version": 3
   },
   "file_extension": ".py",
   "mimetype": "text/x-python",
   "name": "python",
   "nbconvert_exporter": "python",
   "pygments_lexer": "ipython3",
   "version": "3.12.0"
  }
 },
 "nbformat": 4,
 "nbformat_minor": 2
}
